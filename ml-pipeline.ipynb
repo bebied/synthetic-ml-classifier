import sys
sys.path.append("..")  # So Python can find your scripts

from data.generate_data import generate_synthetic_data
from models.train_model import train_model
import pandas as pd
